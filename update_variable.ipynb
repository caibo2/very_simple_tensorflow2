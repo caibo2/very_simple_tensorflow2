{
 "metadata": {
  "language_info": {
   "codemirror_mode": {
    "name": "ipython",
    "version": 3
   },
   "file_extension": ".py",
   "mimetype": "text/x-python",
   "name": "python",
   "nbconvert_exporter": "python",
   "pygments_lexer": "ipython3",
   "version": "3.7.4-final"
  },
  "orig_nbformat": 2,
  "kernelspec": {
   "name": "python3",
   "display_name": "Python 3"
  }
 },
 "nbformat": 4,
 "nbformat_minor": 2,
 "cells": [
  {
   "cell_type": "code",
   "execution_count": 1,
   "metadata": {},
   "outputs": [],
   "source": [
    "import tensorflow as tf\n",
    "import numpy as np"
   ]
  },
  {
   "cell_type": "code",
   "execution_count": 2,
   "metadata": {},
   "outputs": [],
   "source": [
    "raw_data = np.random.normal(10, 1, 10000)\n",
    "alpha = tf.constant(0.05)\n",
    "cur_val = tf.Variable(0.)\n",
    "prev_avg = tf.Variable(0.)\n",
    "writer = tf.summary.create_file_writer(\"./logs\")\n",
    "\n"
   ]
  },
  {
   "cell_type": "code",
   "execution_count": 3,
   "metadata": {},
   "outputs": [],
   "source": [
    "def apdate_avg(cur, prev, al):\n",
    "    return al * cur + (1 - alpha) * prev"
   ]
  },
  {
   "cell_type": "code",
   "execution_count": 4,
   "metadata": {},
   "outputs": [],
   "source": [
    "for i in range(len(raw_data)):\n",
    "    cur_val = apdate_avg(raw_data[i], prev_avg, alpha)\n",
    "    prev_avg = cur_val\n",
    "    with writer.as_default():\n",
    "        tf.summary.scalar(\"cur_val\", raw_data[i], step = 1)\n",
    "        tf.summary.scalar(\"running_average\", cur_val, step = 1)\n",
    "\n",
    "\n",
    "#print(raw_data[i], cur_val)"
   ]
  }
 ]
}