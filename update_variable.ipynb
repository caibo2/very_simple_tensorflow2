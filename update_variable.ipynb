{
 "metadata": {
  "language_info": {
   "codemirror_mode": {
    "name": "ipython",
    "version": 3
   },
   "file_extension": ".py",
   "mimetype": "text/x-python",
   "name": "python",
   "nbconvert_exporter": "python",
   "pygments_lexer": "ipython3",
   "version": "3.7.4-final"
  },
  "orig_nbformat": 2,
  "kernelspec": {
   "name": "python3",
   "display_name": "Python 3"
  }
 },
 "nbformat": 4,
 "nbformat_minor": 2,
 "cells": [
  {
   "cell_type": "code",
   "execution_count": 58,
   "metadata": {},
   "outputs": [],
   "source": [
    "import tensorflow as tf\n",
    "import numpy as np"
   ]
  },
  {
   "cell_type": "code",
   "execution_count": 59,
   "metadata": {},
   "outputs": [],
   "source": [
    "raw_data = np.random.normal(10, 1, 100)\n",
    "alpha = tf.constant(0.05)\n",
    "cur_val = tf.Variable(0.)\n",
    "prev_avg = tf.Variable(0.)\n"
   ]
  },
  {
   "cell_type": "code",
   "execution_count": 60,
   "metadata": {},
   "outputs": [],
   "source": [
    "def apdate_avg(cur, prev, al):\n",
    "    return al * cur + (1 - alpha) * prev"
   ]
  },
  {
   "cell_type": "code",
   "execution_count": 61,
   "metadata": {},
   "outputs": [
    {
     "output_type": "stream",
     "name": "stdout",
     "text": [
      "8.72346943161754 tf.Tensor(0.4361735, shape=(), dtype=float32)\n10.498284768295289 tf.Tensor(0.939279, shape=(), dtype=float32)\n10.571324645375723 tf.Tensor(1.4208813, shape=(), dtype=float32)\n11.202929738796001 tf.Tensor(1.9099836, shape=(), dtype=float32)\n11.110438698803039 tf.Tensor(2.3700063, shape=(), dtype=float32)\n9.028666310485102 tf.Tensor(2.7029395, shape=(), dtype=float32)\n10.32274866064431 tf.Tensor(3.0839298, shape=(), dtype=float32)\n8.565256998058075 tf.Tensor(3.3579962, shape=(), dtype=float32)\n11.489672339780249 tf.Tensor(3.76458, shape=(), dtype=float32)\n9.46638534646971 tf.Tensor(4.04967, shape=(), dtype=float32)\n10.414236879850458 tf.Tensor(4.3678985, shape=(), dtype=float32)\n10.673288771332789 tf.Tensor(4.683168, shape=(), dtype=float32)\n8.516138893314753 tf.Tensor(4.8748164, shape=(), dtype=float32)\n10.239124336356236 tf.Tensor(5.1430316, shape=(), dtype=float32)\n10.499551782074331 tf.Tensor(5.4108577, shape=(), dtype=float32)\n7.16776339645193 tf.Tensor(5.4987025, shape=(), dtype=float32)\n9.313439888831617 tf.Tensor(5.6894393, shape=(), dtype=float32)\n9.328588184748524 tf.Tensor(5.8713965, shape=(), dtype=float32)\n10.532464765683594 tf.Tensor(6.1044497, shape=(), dtype=float32)\n10.449541514267365 tf.Tensor(6.3217044, shape=(), dtype=float32)\n8.747705294393464 tf.Tensor(6.443004, shape=(), dtype=float32)\n8.555170341365214 tf.Tensor(6.5486126, shape=(), dtype=float32)\n10.02971407458927 tf.Tensor(6.7226677, shape=(), dtype=float32)\n8.498301940178886 tf.Tensor(6.811449, shape=(), dtype=float32)\n9.508832341156742 tf.Tensor(6.946318, shape=(), dtype=float32)\n9.3571398898046 tf.Tensor(7.0668592, shape=(), dtype=float32)\n9.690859525988104 tf.Tensor(7.198059, shape=(), dtype=float32)\n8.798952457598507 tf.Tensor(7.278104, shape=(), dtype=float32)\n10.481792175996441 tf.Tensor(7.438288, shape=(), dtype=float32)\n9.135257599317924 tf.Tensor(7.5231366, shape=(), dtype=float32)\n8.115695083397942 tf.Tensor(7.5527644, shape=(), dtype=float32)\n9.7475599748042 tf.Tensor(7.662504, shape=(), dtype=float32)\n9.883941292109725 tf.Tensor(7.773576, shape=(), dtype=float32)\n11.0291869283117 tf.Tensor(7.936356, shape=(), dtype=float32)\n10.89250927047844 tf.Tensor(8.084164, shape=(), dtype=float32)\n11.573858329414946 tf.Tensor(8.258648, shape=(), dtype=float32)\n10.439905364942204 tf.Tensor(8.367711, shape=(), dtype=float32)\n9.372013100121137 tf.Tensor(8.417926, shape=(), dtype=float32)\n9.414213667625317 tf.Tensor(8.46774, shape=(), dtype=float32)\n9.65612713933407 tf.Tensor(8.527159, shape=(), dtype=float32)\n9.702783211327736 tf.Tensor(8.585939, shape=(), dtype=float32)\n8.86553533778495 tf.Tensor(8.599918, shape=(), dtype=float32)\n10.538411240633764 tf.Tensor(8.696842, shape=(), dtype=float32)\n9.309969813659734 tf.Tensor(8.727499, shape=(), dtype=float32)\n10.878664980091285 tf.Tensor(8.835057, shape=(), dtype=float32)\n10.223047467577294 tf.Tensor(8.904456, shape=(), dtype=float32)\n9.997874177041771 tf.Tensor(8.959127, shape=(), dtype=float32)\n10.924948500792643 tf.Tensor(9.057419, shape=(), dtype=float32)\n10.731706836383989 tf.Tensor(9.141132, shape=(), dtype=float32)\n10.389991143191462 tf.Tensor(9.203575, shape=(), dtype=float32)\n10.055287981233896 tf.Tensor(9.2461605, shape=(), dtype=float32)\n11.573309381318943 tf.Tensor(9.362518, shape=(), dtype=float32)\n10.025361304452066 tf.Tensor(9.39566, shape=(), dtype=float32)\n10.12143892929622 tf.Tensor(9.43195, shape=(), dtype=float32)\n11.161411703150915 tf.Tensor(9.518422, shape=(), dtype=float32)\n10.457801985114305 tf.Tensor(9.565391, shape=(), dtype=float32)\n8.486229680800326 tf.Tensor(9.511433, shape=(), dtype=float32)\n8.872888756302928 tf.Tensor(9.479506, shape=(), dtype=float32)\n10.615761968364083 tf.Tensor(9.536319, shape=(), dtype=float32)\n9.89431194345292 tf.Tensor(9.554218, shape=(), dtype=float32)\n8.903364449490665 tf.Tensor(9.521676, shape=(), dtype=float32)\n7.621016490021095 tf.Tensor(9.426643, shape=(), dtype=float32)\n10.837723123960288 tf.Tensor(9.497197, shape=(), dtype=float32)\n9.739933854223338 tf.Tensor(9.509334, shape=(), dtype=float32)\n9.95605109115474 tf.Tensor(9.53167, shape=(), dtype=float32)\n11.29998104545799 tf.Tensor(9.620085, shape=(), dtype=float32)\n9.347690089341858 tf.Tensor(9.606464, shape=(), dtype=float32)\n9.51013384433665 tf.Tensor(9.601647, shape=(), dtype=float32)\n10.603085621761274 tf.Tensor(9.651719, shape=(), dtype=float32)\n10.67122017349539 tf.Tensor(9.702694, shape=(), dtype=float32)\n9.922161799264083 tf.Tensor(9.713667, shape=(), dtype=float32)\n10.073149485009235 tf.Tensor(9.731641, shape=(), dtype=float32)\n9.16217955433068 tf.Tensor(9.703168, shape=(), dtype=float32)\n9.657601698524147 tf.Tensor(9.700889, shape=(), dtype=float32)\n11.045781782540397 tf.Tensor(9.768133, shape=(), dtype=float32)\n9.75062794845824 tf.Tensor(9.767258, shape=(), dtype=float32)\n11.270018813723313 tf.Tensor(9.842396, shape=(), dtype=float32)\n10.877729388167413 tf.Tensor(9.894162, shape=(), dtype=float32)\n9.590962021445304 tf.Tensor(9.879003, shape=(), dtype=float32)\n10.73785927978681 tf.Tensor(9.921946, shape=(), dtype=float32)\n10.895142892529115 tf.Tensor(9.970605, shape=(), dtype=float32)\n10.191122682648809 tf.Tensor(9.98163, shape=(), dtype=float32)\n10.123095953102847 tf.Tensor(9.988704, shape=(), dtype=float32)\n10.43142055072826 tf.Tensor(10.010839, shape=(), dtype=float32)\n9.4208063329816 tf.Tensor(9.9813385, shape=(), dtype=float32)\n8.904493228814337 tf.Tensor(9.927496, shape=(), dtype=float32)\n9.199168585186223 tf.Tensor(9.891079, shape=(), dtype=float32)\n11.174592322268296 tf.Tensor(9.955254, shape=(), dtype=float32)\n10.708354599371674 tf.Tensor(9.9929085, shape=(), dtype=float32)\n10.89201302923611 tf.Tensor(10.037864, shape=(), dtype=float32)\n10.150326765165106 tf.Tensor(10.043487, shape=(), dtype=float32)\n10.812430444999118 tf.Tensor(10.081934, shape=(), dtype=float32)\n11.470359094422363 tf.Tensor(10.151355, shape=(), dtype=float32)\n10.125363263978064 tf.Tensor(10.150056, shape=(), dtype=float32)\n10.447835924261106 tf.Tensor(10.164946, shape=(), dtype=float32)\n11.66317123109946 tf.Tensor(10.239857, shape=(), dtype=float32)\n10.549078266946568 tf.Tensor(10.255318, shape=(), dtype=float32)\n10.030449021387652 tf.Tensor(10.244074, shape=(), dtype=float32)\n10.052384177408374 tf.Tensor(10.2344885, shape=(), dtype=float32)\n9.879528556912978 tf.Tensor(10.216741, shape=(), dtype=float32)\n"
     ]
    }
   ],
   "source": [
    "for i in range(len(raw_data)):\n",
    "    cur_val = apdate_avg(raw_data[i], prev_avg, alpha)\n",
    "    prev_avg = cur_val\n",
    "    print(raw_data[i], cur_val)"
   ]
  }
 ]
}